{
 "cells": [
  {
   "cell_type": "code",
   "execution_count": 1704,
   "metadata": {},
   "outputs": [],
   "source": [
    "import numpy as np\n",
    "import pandas as pd\n",
    "class NN:\n",
    "    def __init__(self,etha,epoch,rand_state=1) -> None:\n",
    "        self.etha = etha\n",
    "        self.rand_state = rand_state\n",
    "        self.epoch = epoch\n",
    "    \n",
    "    def activation(self,x,param):\n",
    "        match param:\n",
    "            case \"linear\":\n",
    "                return x\n",
    "            case \"binstep\":\n",
    "                return np.where(x>=0,1.,-1.)\n",
    "            case \"sigmoid\":\n",
    "                return 1/(1+np.exp(-x))\n",
    "            case \"tanh\":\n",
    "                return np.tanh(x)\n",
    "            case \"ReLU\":\n",
    "                return np.maximum(0,x)\n",
    "            case \"softplus\":\n",
    "                return np.log(1+np.exp(x))\n",
    "            case \"silu\":\n",
    "                return x/(1+np.exp(-x))\n",
    "            case \"gaussian\":\n",
    "                return np.exp(-x**2)\n",
    "            case _:\n",
    "                raise Exception(\"invalid activation function\") \n",
    "\n",
    "    def fit(self,x,y,norm=False):\n",
    "        if norm:\n",
    "            x = self.normalize(x)\n",
    "        fixed_prob = np.random.RandomState(self.rand_state)\n",
    "        self.w = fixed_prob.normal(loc=0,scale= 0.1,size=x.shape[1])\n",
    "        self.b = 1\n",
    "        self.costs = []\n",
    "        for _ in range(self.epoch):\n",
    "            shuffled_index = np.random.permutation(x.index)\n",
    "            x = x.reindex(shuffled_index)\n",
    "            y = y.reindex(shuffled_index)\n",
    "            error = y-self.predict(x)\n",
    "            self.w += self.etha*pd.Series(np.matmul(x.T, error))\n",
    "            self.b += self.etha*error.sum()\n",
    "            cost = (error**2).sum() / 2.0\n",
    "            self.costs.append(cost)\n",
    "                                                        \n",
    "    def net_input(self,x):\n",
    "        return np.dot(x,self.w)+ self.b\n",
    "\n",
    "    def predict(self,x,decimal_number=2):\n",
    "        return np.around(self.activation(self.net_input(x),\"binstep\"),1)\n",
    "\n",
    "    def normalize(self,x):\n",
    "        return (x-np.mean(x))/np.std(x)"
   ]
  },
  {
   "cell_type": "code",
   "execution_count": 1805,
   "metadata": {},
   "outputs": [
    {
     "name": "stdout",
     "output_type": "stream",
     "text": [
      "100.0 %\n",
      "      A    B\n",
      "26 -1.0 -1.0\n",
      "91  1.0  1.0\n",
      "66  1.0  1.0\n",
      "63  1.0  1.0\n",
      "16 -1.0 -1.0\n",
      "86  1.0  1.0\n",
      "15 -1.0 -1.0\n",
      "77  1.0  1.0\n",
      "61  1.0  1.0\n",
      "57  1.0  1.0\n",
      "47 -1.0 -1.0\n",
      "98  1.0  1.0\n",
      "87  1.0  1.0\n",
      "82  1.0  1.0\n",
      "25 -1.0 -1.0\n",
      "65  1.0  1.0\n",
      "72  1.0  1.0\n",
      "80  1.0  1.0\n",
      "11 -1.0 -1.0\n",
      "79  1.0  1.0\n"
     ]
    },
    {
     "data": {
      "image/png": "[encoded data removed]",
      "text/plain": [
       "<Figure size 640x480 with 1 Axes>"
      ]
     },
     "metadata": {},
     "output_type": "display_data"
    }
   ],
   "source": [
    "import matplotlib.pyplot as plt\n",
    "df = pd.read_csv('iris.data', header=None, encoding='utf-8').iloc[:100]\n",
    "#fixed_prob = np.random.RandomState(10)\n",
    "shuffled_index = np.random.permutation(df.index)\n",
    "df = df.reindex(shuffled_index)\n",
    "# select setosa and versicolor\n",
    "\n",
    "df[df.columns[4]] = np.where(df.iloc[0:100, 4] == 'Iris-setosa', -1., 1.)\n",
    "y = df.iloc[0:80, 4]\n",
    "# extract info\n",
    "x = df.iloc[0:80,:4]\n",
    "ppn = NN(etha=0.01, epoch=4)\n",
    "ppn.fit(x, y)\n",
    "y_test = df.iloc[80:100, 4]\n",
    "# extract info\n",
    "x_test = df.iloc[80:100,:4]\n",
    "x_test= (x_test-np.mean(x,axis=0))/np.std(x)\n",
    "prediction = ppn.predict(x_test)\n",
    "accuracy = 100-(20-sum(np.where(prediction>0,1,-1)==y_test))/20*100\n",
    "print(accuracy,\"%\")\n",
    "d = {\"A\":y_test,\"B\":prediction}\n",
    "print(pd.DataFrame(data=d))\n",
    "plt.plot(range(ppn.epoch),ppn.costs)\n",
    "plt.show()\n"
   ]
  },
  {
   "cell_type": "code",
   "execution_count": 1764,
   "metadata": {},
   "outputs": [
    {
     "name": "stdout",
     "output_type": "stream",
     "text": [
      "0\n"
     ]
    }
   ],
   "source": [
    "for i in range(1): print(i)"
   ]
  },
  {
   "cell_type": "code",
   "execution_count": 71,
   "metadata": {},
   "outputs": [
    {
     "data": {
      "text/html": [
       "<div>\n",
       "<style scoped>\n",
       "    .dataframe tbody tr th:only-of-type {\n",
       "        vertical-align: middle;\n",
       "    }\n",
       "\n",
       "    .dataframe tbody tr th {\n",
       "        vertical-align: top;\n",
       "    }\n",
       "\n",
       "    .dataframe thead th {\n",
       "        text-align: right;\n",
       "    }\n",
       "</style>\n",
       "<table border=\"1\" class=\"dataframe\">\n",
       "  <thead>\n",
       "    <tr style=\"text-align: right;\">\n",
       "      <th></th>\n",
       "      <th>0</th>\n",
       "      <th>1</th>\n",
       "      <th>2</th>\n",
       "      <th>3</th>\n",
       "    </tr>\n",
       "  </thead>\n",
       "  <tbody>\n",
       "    <tr>\n",
       "      <th>0</th>\n",
       "      <td>5.1</td>\n",
       "      <td>3.5</td>\n",
       "      <td>1.4</td>\n",
       "      <td>0.2</td>\n",
       "    </tr>\n",
       "    <tr>\n",
       "      <th>1</th>\n",
       "      <td>4.9</td>\n",
       "      <td>3.0</td>\n",
       "      <td>1.4</td>\n",
       "      <td>0.2</td>\n",
       "    </tr>\n",
       "    <tr>\n",
       "      <th>2</th>\n",
       "      <td>4.7</td>\n",
       "      <td>3.2</td>\n",
       "      <td>1.3</td>\n",
       "      <td>0.2</td>\n",
       "    </tr>\n",
       "    <tr>\n",
       "      <th>3</th>\n",
       "      <td>4.6</td>\n",
       "      <td>3.1</td>\n",
       "      <td>1.5</td>\n",
       "      <td>0.2</td>\n",
       "    </tr>\n",
       "    <tr>\n",
       "      <th>4</th>\n",
       "      <td>5.0</td>\n",
       "      <td>3.6</td>\n",
       "      <td>1.4</td>\n",
       "      <td>0.2</td>\n",
       "    </tr>\n",
       "    <tr>\n",
       "      <th>5</th>\n",
       "      <td>5.4</td>\n",
       "      <td>3.9</td>\n",
       "      <td>1.7</td>\n",
       "      <td>0.4</td>\n",
       "    </tr>\n",
       "    <tr>\n",
       "      <th>6</th>\n",
       "      <td>4.6</td>\n",
       "      <td>3.4</td>\n",
       "      <td>1.4</td>\n",
       "      <td>0.3</td>\n",
       "    </tr>\n",
       "    <tr>\n",
       "      <th>7</th>\n",
       "      <td>5.0</td>\n",
       "      <td>3.4</td>\n",
       "      <td>1.5</td>\n",
       "      <td>0.2</td>\n",
       "    </tr>\n",
       "    <tr>\n",
       "      <th>8</th>\n",
       "      <td>4.4</td>\n",
       "      <td>2.9</td>\n",
       "      <td>1.4</td>\n",
       "      <td>0.2</td>\n",
       "    </tr>\n",
       "    <tr>\n",
       "      <th>9</th>\n",
       "      <td>4.9</td>\n",
       "      <td>3.1</td>\n",
       "      <td>1.5</td>\n",
       "      <td>0.1</td>\n",
       "    </tr>\n",
       "  </tbody>\n",
       "</table>\n",
       "</div>"
      ],
      "text/plain": [
       "     0    1    2    3\n",
       "0  5.1  3.5  1.4  0.2\n",
       "1  4.9  3.0  1.4  0.2\n",
       "2  4.7  3.2  1.3  0.2\n",
       "3  4.6  3.1  1.5  0.2\n",
       "4  5.0  3.6  1.4  0.2\n",
       "5  5.4  3.9  1.7  0.4\n",
       "6  4.6  3.4  1.4  0.3\n",
       "7  5.0  3.4  1.5  0.2\n",
       "8  4.4  2.9  1.4  0.2\n",
       "9  4.9  3.1  1.5  0.1"
      ]
     },
     "execution_count": 71,
     "metadata": {},
     "output_type": "execute_result"
    }
   ],
   "source": []
  },
  {
   "cell_type": "code",
   "execution_count": 54,
   "metadata": {},
   "outputs": [
    {
     "data": {
      "text/plain": [
       "0    547.1\n",
       "1    309.4\n",
       "2    286.2\n",
       "3     78.5\n",
       "dtype: float64"
      ]
     },
     "execution_count": 54,
     "metadata": {},
     "output_type": "execute_result"
    }
   ],
   "source": [
    "error = np.ones(x.shape[0])\n",
    "np.dot(error,x)\n",
    "np.matmul(error, x)\n",
    "pd.Series(np.matmul(x.T, error))"
   ]
  },
  {
   "cell_type": "code",
   "execution_count": 200,
   "metadata": {},
   "outputs": [
    {
     "data": {
      "text/plain": [
       "(3.418, 0.38102439795469095)"
      ]
     },
     "execution_count": 200,
     "metadata": {},
     "output_type": "execute_result"
    },
    {
     "data": {
      "image/png": "[encoded data removed]",
      "text/plain": [
       "<Figure size 432x288 with 1 Axes>"
      ]
     },
     "metadata": {
      "needs_background": "light"
     },
     "output_type": "display_data"
    }
   ],
   "source": [
    "x = df.iloc[:50,1]\n",
    "m = x.mean()\n",
    "s = x.std()\n",
    "x.hist()\n",
    "m,s"
   ]
  },
  {
   "cell_type": "code",
   "execution_count": 217,
   "metadata": {},
   "outputs": [
    {
     "name": "stdout",
     "output_type": "stream",
     "text": [
      "       0    1    2    3                4\n",
      "122  7.7  2.8  6.7  2.0   Iris-virginica\n",
      "75   6.6  3.0  4.4  1.4  Iris-versicolor\n",
      "131  7.9  3.8  6.4  2.0   Iris-virginica\n",
      "36   5.5  3.5  1.3  0.2      Iris-setosa\n",
      "33   5.5  4.2  1.4  0.2      Iris-setosa\n",
      "101  5.8  2.7  5.1  1.9   Iris-virginica\n",
      "82   5.8  2.7  3.9  1.2  Iris-versicolor\n",
      "13   4.3  3.0  1.1  0.1      Iris-setosa\n",
      "64   5.6  2.9  3.6  1.3  Iris-versicolor\n",
      "110  6.5  3.2  5.1  2.0   Iris-virginica\n",
      "       0    1    2    3                4\n",
      "129  7.2  3.0  5.8  1.6   Iris-virginica\n",
      "39   5.1  3.4  1.5  0.2      Iris-setosa\n",
      "104  6.5  3.0  5.8  2.2   Iris-virginica\n",
      "89   5.5  2.5  4.0  1.3  Iris-versicolor\n",
      "90   5.5  2.6  4.4  1.2  Iris-versicolor\n",
      "131  7.9  3.8  6.4  2.0   Iris-virginica\n",
      "13   4.3  3.0  1.1  0.1      Iris-setosa\n",
      "63   6.1  2.9  4.7  1.4  Iris-versicolor\n",
      "127  6.1  3.0  4.9  1.8   Iris-virginica\n",
      "45   4.8  3.0  1.4  0.3      Iris-setosa\n",
      "       0    1    2    3                4\n",
      "87   6.3  2.3  4.4  1.3  Iris-versicolor\n",
      "67   5.8  2.7  4.1  1.0  Iris-versicolor\n",
      "132  6.4  2.8  5.6  2.2   Iris-virginica\n",
      "34   4.9  3.1  1.5  0.1      Iris-setosa\n",
      "125  7.2  3.2  6.0  1.8   Iris-virginica\n",
      "86   6.7  3.1  4.7  1.5  Iris-versicolor\n",
      "102  7.1  3.0  5.9  2.1   Iris-virginica\n",
      "41   4.5  2.3  1.3  0.3      Iris-setosa\n",
      "121  5.6  2.8  4.9  2.0   Iris-virginica\n",
      "38   4.4  3.0  1.3  0.2      Iris-setosa\n"
     ]
    }
   ],
   "source": [
    "for _ in range(3):\n",
    "    shuffled_index = np.random.permutation(df.index)\n",
    "    print(df.reindex(shuffled_index).head(10))"
   ]
  },
  {
   "cell_type": "code",
   "execution_count": 202,
   "metadata": {},
   "outputs": [
    {
     "data": {
      "text/plain": [
       "(3.418, 0.38102439795469095)"
      ]
     },
     "execution_count": 202,
     "metadata": {},
     "output_type": "execute_result"
    },
    {
     "data": {
      "image/png": "[encoded data removed]",
      "text/plain": [
       "<Figure size 432x288 with 1 Axes>"
      ]
     },
     "metadata": {
      "needs_background": "light"
     },
     "output_type": "display_data"
    }
   ],
   "source": [
    "x_rec = s*x_n+m\n",
    "m_n2 = x_rec.mean()\n",
    "s_n2 = x_rec.std()\n",
    "x_rec.hist()\n",
    "m_n2,s_n2"
   ]
  },
  {
   "cell_type": "code",
   "execution_count": 203,
   "metadata": {},
   "outputs": [
    {
     "data": {
      "text/plain": [
       "True"
      ]
     },
     "execution_count": 203,
     "metadata": {},
     "output_type": "execute_result"
    }
   ],
   "source": [
    "m_n2 == m"
   ]
  },
  {
   "cell_type": "code",
   "execution_count": 204,
   "metadata": {},
   "outputs": [
    {
     "data": {
      "text/plain": [
       "True"
      ]
     },
     "execution_count": 204,
     "metadata": {},
     "output_type": "execute_result"
    }
   ],
   "source": [
    "s_n2 == s"
   ]
  },
  {
   "cell_type": "code",
   "execution_count": 226,
   "metadata": {},
   "outputs": [
    {
     "data": {
      "text/html": [
       "<div>\n",
       "<style scoped>\n",
       "    .dataframe tbody tr th:only-of-type {\n",
       "        vertical-align: middle;\n",
       "    }\n",
       "\n",
       "    .dataframe tbody tr th {\n",
       "        vertical-align: top;\n",
       "    }\n",
       "\n",
       "    .dataframe thead th {\n",
       "        text-align: right;\n",
       "    }\n",
       "</style>\n",
       "<table border=\"1\" class=\"dataframe\">\n",
       "  <thead>\n",
       "    <tr style=\"text-align: right;\">\n",
       "      <th></th>\n",
       "      <th>0</th>\n",
       "      <th>1</th>\n",
       "      <th>2</th>\n",
       "      <th>3</th>\n",
       "    </tr>\n",
       "  </thead>\n",
       "  <tbody>\n",
       "    <tr>\n",
       "      <th>87</th>\n",
       "      <td>6.3</td>\n",
       "      <td>2.3</td>\n",
       "      <td>4.4</td>\n",
       "      <td>1.3</td>\n",
       "    </tr>\n",
       "    <tr>\n",
       "      <th>67</th>\n",
       "      <td>5.8</td>\n",
       "      <td>2.7</td>\n",
       "      <td>4.1</td>\n",
       "      <td>1.0</td>\n",
       "    </tr>\n",
       "    <tr>\n",
       "      <th>132</th>\n",
       "      <td>6.4</td>\n",
       "      <td>2.8</td>\n",
       "      <td>5.6</td>\n",
       "      <td>2.2</td>\n",
       "    </tr>\n",
       "    <tr>\n",
       "      <th>34</th>\n",
       "      <td>4.9</td>\n",
       "      <td>3.1</td>\n",
       "      <td>1.5</td>\n",
       "      <td>0.1</td>\n",
       "    </tr>\n",
       "    <tr>\n",
       "      <th>125</th>\n",
       "      <td>7.2</td>\n",
       "      <td>3.2</td>\n",
       "      <td>6.0</td>\n",
       "      <td>1.8</td>\n",
       "    </tr>\n",
       "  </tbody>\n",
       "</table>\n",
       "</div>"
      ],
      "text/plain": [
       "       0    1    2    3\n",
       "87   6.3  2.3  4.4  1.3\n",
       "67   5.8  2.7  4.1  1.0\n",
       "132  6.4  2.8  5.6  2.2\n",
       "34   4.9  3.1  1.5  0.1\n",
       "125  7.2  3.2  6.0  1.8"
      ]
     },
     "execution_count": 226,
     "metadata": {},
     "output_type": "execute_result"
    }
   ],
   "source": [
    "x = df.iloc[:,:4]\n",
    "y = df.iloc[:,-1]\n",
    "x = x.reindex(shuffled_index)\n",
    "y.reindex(shuffled_index)\n",
    "x.head()"
   ]
  },
  {
   "cell_type": "code",
   "execution_count": 237,
   "metadata": {},
   "outputs": [
    {
     "data": {
      "text/plain": [
       "array([1, 1, 1, 1, 1, 1, 1, 1, 1, 1, 1, 1, 1, 1, 1, 1, 1, 1, 1, 1, 1, 1,\n",
       "       1, 1, 1, 1, 1, 1, 1, 1, 1, 1, 1, 1, 1, 1, 1, 1, 1, 1, 1, 1, 1, 1,\n",
       "       1, 1, 1, 1, 1, 1, 0, 0, 0, 0, 0, 0, 0, 0, 0, 0, 0, 0, 0, 0, 0, 0,\n",
       "       0, 0, 0, 0, 0, 0, 0, 0, 0, 0, 0, 0, 0, 0, 0, 0, 0, 0, 0, 0, 0, 0,\n",
       "       0, 0, 0, 0, 0, 0, 0, 0, 0, 0, 0, 0, 0, 0, 0, 0, 0, 0, 0, 0, 0, 0,\n",
       "       0, 0, 0, 0, 0, 0, 0, 0, 0, 0, 0, 0, 0, 0, 0, 0, 0, 0, 0, 0, 0, 0,\n",
       "       0, 0, 0, 0, 0, 0, 0, 0, 0, 0, 0, 0, 0, 0, 0, 0, 0, 0])"
      ]
     },
     "execution_count": 237,
     "metadata": {},
     "output_type": "execute_result"
    }
   ],
   "source": [
    "y = np.where(y==\"Iris-setosa\",1,0)\n"
   ]
  },
  {
   "cell_type": "code",
   "execution_count": 245,
   "metadata": {},
   "outputs": [],
   "source": [
    "prod = (y - np.dot(weights,x.T))"
   ]
  },
  {
   "cell_type": "code",
   "execution_count": 251,
   "metadata": {},
   "outputs": [
    {
     "data": {
      "text/plain": [
       "array([-452979.68097334, -231872.40865432, -301028.53386268,\n",
       "        -97218.62040447])"
      ]
     },
     "execution_count": 251,
     "metadata": {},
     "output_type": "execute_result"
    }
   ],
   "source": [
    "np.dot(prod,x)"
   ]
  },
  {
   "cell_type": "code",
   "execution_count": 260,
   "metadata": {},
   "outputs": [
    {
     "data": {
      "text/plain": [
       "[(-554.6431102859151, 6.3),\n",
       " (-504.7527367324566, 5.8),\n",
       " (-546.7312479213755, 6.4),\n",
       " (-434.01245727812403, 4.9),\n",
       " (-619.7753731131303, 7.2),\n",
       " (-582.1010624537874, 6.7),\n",
       " (-611.4737598160941, 7.1),\n",
       " (-404.04356497837244, 4.5),\n",
       " (-474.0980158771237, 5.6),\n",
       " (-387.0721188395579, 4.4),\n",
       " (-479.06563626388777, 5.5),\n",
       " (-480.5297007887937, 5.6),\n",
       " (-379.0970555756922, 4.3),\n",
       " (-493.86792850903674, 5.8),\n",
       " (-545.6525205480827, 6.3),\n",
       " (-460.3073389583711, 5.2),\n",
       " (-488.2594092486065, 5.6),\n",
       " (-521.4097211579287, 6.0),\n",
       " (-441.82965673748413, 5.0),\n",
       " (-449.846891558516, 5.1),\n",
       " (-580.2490155253661, 6.7),\n",
       " (-517.1418996361206, 6.0),\n",
       " (-404.1987835309759, 4.6),\n",
       " (-523.2316848490119, 6.1),\n",
       " (-445.01925351931254, 5.1),\n",
       " (-500.8351398378806, 5.9),\n",
       " (-480.24217442757464, 5.5),\n",
       " (-558.5503873896442, 6.4),\n",
       " (-544.357142251842, 6.2),\n",
       " (-611.5190792584752, 7.2),\n",
       " (-481.37654103409517, 5.5),\n",
       " (-508.2912922458488, 5.9),\n",
       " (-666.8793684933187, 7.7),\n",
       " (-537.6895456040453, 6.3),\n",
       " (-445.414294955613, 5.1),\n",
       " (-438.4687284750886, 5.0),\n",
       " (-496.7168571921241, 5.7),\n",
       " (-595.2980419308013, 6.9),\n",
       " (-477.85068993440916, 5.4),\n",
       " (-490.7313257085343, 5.7),\n",
       " (-445.5586910840569, 5.2),\n",
       " (-543.5358580024302, 6.3),\n",
       " (-471.47199900406514, 5.4),\n",
       " (-512.6466047672045, 6.0),\n",
       " (-414.242544646211, 4.7),\n",
       " (-445.6525907268806, 5.1),\n",
       " (-540.31805997281, 6.3),\n",
       " (-527.406725455187, 6.3),\n",
       " (-402.1153521078763, 4.6),\n",
       " (-500.1130457350966, 5.7),\n",
       " (-388.4888051241778, 4.4),\n",
       " (-544.9301361763753, 6.4),\n",
       " (-585.8209789696698, 6.8),\n",
       " (-477.8812461651791, 5.5),\n",
       " (-530.4754233065564, 6.3),\n",
       " (-444.7552243560783, 5.0),\n",
       " (-490.79699446368545, 5.7),\n",
       " (-439.55307158942117, 5.0),\n",
       " (-625.2284964248802, 7.2),\n",
       " (-506.6027248629729, 5.8),\n",
       " (-580.8470628124763, 6.7),\n",
       " (-437.45881774216184, 5.0),\n",
       " (-413.21601835200784, 4.7),\n",
       " (-441.06195292339544, 5.0),\n",
       " (-557.8427365896667, 6.5),\n",
       " (-494.86792850903674, 5.8),\n",
       " (-569.5730062898728, 6.7),\n",
       " (-679.0970225203387, 7.9),\n",
       " (-501.6772760333752, 5.9),\n",
       " (-445.80260259636435, 5.1),\n",
       " (-595.9459353140228, 6.8),\n",
       " (-476.925122315815, 5.4),\n",
       " (-487.48403089557286, 5.7),\n",
       " (-577.0937383656823, 6.6),\n",
       " (-450.43020527389604, 5.1),\n",
       " (-506.1860385783529, 5.8),\n",
       " (-442.85836061858873, 5.1),\n",
       " (-548.1901057631617, 6.4),\n",
       " (-535.4008721361544, 6.2),\n",
       " (-426.99522245709204, 4.8),\n",
       " (-413.9586391636387, 4.9),\n",
       " (-458.3400727760426, 5.4),\n",
       " (-493.499029522623, 5.7),\n",
       " (-571.4084376570175, 6.7),\n",
       " (-522.5003600426909, 6.2),\n",
       " (-459.53963514428233, 5.2),\n",
       " (-527.0346785835585, 6.1),\n",
       " (-481.92459446889836, 5.5),\n",
       " (-453.4453226899427, 5.2),\n",
       " (-601.3199221945599, 6.9),\n",
       " (-576.8937030040105, 6.6),\n",
       " (-554.0050690285401, 6.4),\n",
       " (-385.88772874084924, 4.4),\n",
       " (-435.01245727812403, 4.9),\n",
       " (-484.13077717212235, 5.6),\n",
       " (-552.2265427902917, 6.4),\n",
       " (-643.5796639742683, 7.4),\n",
       " (-490.24546857911287, 5.5),\n",
       " (-572.8917629951019, 6.7),\n",
       " (-577.14485094518, 6.7),\n",
       " (-522.7560346375906, 6.1),\n",
       " (-475.1740340630027, 5.4),\n",
       " (-420.8165668884198, 4.8),\n",
       " (-512.2220665475628, 6.0),\n",
       " (-424.0931520364827, 4.8),\n",
       " (-515.8143793046366, 6.0),\n",
       " (-585.5864465897769, 6.7),\n",
       " (-426.0775067735196, 4.8),\n",
       " (-529.0445893164853, 6.1),\n",
       " (-474.5458738986734, 5.5),\n",
       " (-440.86191756172366, 5.0),\n",
       " (-545.6024970558947, 6.3),\n",
       " (-435.01245727812403, 4.9),\n",
       " (-549.163460679962, 6.3),\n",
       " (-558.9515472002973, 6.5),\n",
       " (-404.782097246356, 4.6),\n",
       " (-591.1527942930408, 6.9),\n",
       " (-611.822541151581, 7.0),\n",
       " (-668.9146584137767, 7.7),\n",
       " (-656.6698916385564, 7.6),\n",
       " (-668.4225694494376, 7.7),\n",
       " (-449.2114955530429, 5.1),\n",
       " (-402.13884930586113, 4.6),\n",
       " (-491.0979885009662, 5.7),\n",
       " (-631.8103706021108, 7.3),\n",
       " (-477.9099500462837, 5.6),\n",
       " (-449.97134743210984, 5.1),\n",
       " (-595.1892313201706, 6.9),\n",
       " (-533.3142928278398, 6.1),\n",
       " (-567.4832790963435, 6.5),\n",
       " (-526.6179922989386, 6.1),\n",
       " (-485.99943966182, 5.6),\n",
       " (-445.2728693163072, 5.0),\n",
       " (-426.3689442823092, 4.9),\n",
       " (-546.9656029051919, 6.4),\n",
       " (-503.3778678005674, 5.7),\n",
       " (-539.980510119403, 6.2),\n",
       " (-467.14018368069435, 5.3),\n",
       " (-656.5829032723219, 7.7),\n",
       " (-439.17164558537826, 5.0),\n",
       " (-418.79004059421663, 4.8),\n",
       " (-436.3213032504265, 4.9),\n",
       " (-580.0168381284512, 6.8),\n",
       " (-531.4590980142038, 6.0),\n",
       " (-514.8148180024376, 5.8),\n",
       " (-557.4426658663232, 6.5),\n",
       " (-479.2839917803055, 5.4),\n",
       " (-491.48144425075134, 5.8),\n",
       " (-437.2460779667841, 5.0),\n",
       " (-553.9807789283186, 6.5)]"
      ]
     },
     "execution_count": 260,
     "metadata": {},
     "output_type": "execute_result"
    }
   ],
   "source": [
    "list(zip(prod,x.iloc[:,0]))"
   ]
  }
 ],
 "metadata": {
  "kernelspec": {
   "display_name": "newPy",
   "language": "python",
   "name": "python3"
  },
  "language_info": {
   "codemirror_mode": {
    "name": "ipython",
    "version": 3
   },
   "file_extension": ".py",
   "mimetype": "text/x-python",
   "name": "python",
   "nbconvert_exporter": "python",
   "pygments_lexer": "ipython3",
   "version": "3.10.8"
  },
  "orig_nbformat": 4,
  "vscode": {
   "interpreter": {
    "hash": "241cf3b24bc0f2bc096da0c24ddf33d9fd51c8c7dc09c018bb31e95fbbc0aea9"
   }
  }
 },
 "nbformat": 4,
 "nbformat_minor": 2
}
